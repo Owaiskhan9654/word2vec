{
  "nbformat": 4,
  "nbformat_minor": 0,
  "metadata": {
    "colab": {
      "name": "Word2Vec.ipynb",
      "provenance": [],
      "authorship_tag": "ABX9TyMxFVGx3mZlA7b4GLsWm+y3",
      "include_colab_link": true
    },
    "kernelspec": {
      "name": "python3",
      "display_name": "Python 3"
    }
  },
  "cells": [
    {
      "cell_type": "markdown",
      "metadata": {
        "id": "view-in-github",
        "colab_type": "text"
      },
      "source": [
        "<a href=\"https://colab.research.google.com/github/Owaiskhan9654/word2vec/blob/master/Word2Vec.ipynb\" target=\"_parent\"><img src=\"https://colab.research.google.com/assets/colab-badge.svg\" alt=\"Open In Colab\"/></a>"
      ]
    },
    {
      "cell_type": "markdown",
      "metadata": {
        "id": "69HqC7DH91ve",
        "colab_type": "text"
      },
      "source": [
        "## In this code I am using Word2vec pretrained model provided by Google "
      ]
    },
    {
      "cell_type": "code",
      "metadata": {
        "id": "Db1OR27RnVvw",
        "colab_type": "code",
        "colab": {}
      },
      "source": [
        "import numpy as np\n",
        "from sklearn.manifold import TSNE # This library is used for reducing the dimensions of our vector . bacically I will be using techniques of PCA components\n",
        "import matplotlib.pyplot as plt"
      ],
      "execution_count": 56,
      "outputs": []
    },
    {
      "cell_type": "code",
      "metadata": {
        "id": "eu4aNX_5ydcp",
        "colab_type": "code",
        "colab": {
          "base_uri": "https://localhost:8080/",
          "height": 88
        },
        "outputId": "d3f68200-6d2c-4e06-aeb1-951e75825589"
      },
      "source": [
        "import gensim.downloader as api #Pre_trained word2vec model used for word embedding provided by Gensim API\n",
        "word2vec_model = api.load('word2vec-google-news-300') # this model will be downloaded"
      ],
      "execution_count": 3,
      "outputs": [
        {
          "output_type": "stream",
          "text": [
            "[==================================================] 100.0% 1662.8/1662.8MB downloaded\n"
          ],
          "name": "stdout"
        },
        {
          "output_type": "stream",
          "text": [
            "/usr/local/lib/python3.6/dist-packages/smart_open/smart_open_lib.py:254: UserWarning: This function is deprecated, use smart_open.open instead. See the migration notes for details: https://github.com/RaRe-Technologies/smart_open/blob/master/README.rst#migrating-to-the-new-open-function\n",
            "  'See the migration notes for details: %s' % _MIGRATION_NOTES_URL\n"
          ],
          "name": "stderr"
        }
      ]
    },
    {
      "cell_type": "markdown",
      "metadata": {
        "id": "ZC0XNOpl-_Ll",
        "colab_type": "text"
      },
      "source": [
        "Each word in word2vec model contains some associated vectors which they got from training their model"
      ]
    },
    {
      "cell_type": "code",
      "metadata": {
        "id": "A3JBLhihy3iv",
        "colab_type": "code",
        "colab": {
          "base_uri": "https://localhost:8080/",
          "height": 1000
        },
        "outputId": "945a6947-4007-4a35-a291-52078257fa5d"
      },
      "source": [
        "word2vec_model['huge'] #vectors associated with the word 'huge'"
      ],
      "execution_count": 35,
      "outputs": [
        {
          "output_type": "execute_result",
          "data": {
            "text/plain": [
              "array([ 0.1875    ,  0.11767578, -0.05517578,  0.19433594, -0.01953125,\n",
              "       -0.3359375 , -0.00086594, -0.328125  ,  0.01098633,  0.16308594,\n",
              "        0.0859375 , -0.12988281,  0.06738281, -0.09667969, -0.12402344,\n",
              "       -0.05493164,  0.07714844,  0.07177734, -0.24121094,  0.08203125,\n",
              "        0.02502441,  0.03271484,  0.08886719,  0.11572266,  0.02624512,\n",
              "       -0.23242188, -0.35546875,  0.01275635,  0.06396484, -0.10546875,\n",
              "       -0.13378906,  0.11865234,  0.18164062,  0.08544922,  0.00512695,\n",
              "       -0.13769531,  0.00312805,  0.16894531,  0.28515625,  0.28125   ,\n",
              "        0.13671875, -0.10839844,  0.24414062, -0.16210938, -0.04467773,\n",
              "       -0.04345703,  0.03295898, -0.01171875, -0.06933594, -0.234375  ,\n",
              "        0.05029297,  0.15820312, -0.10839844, -0.11230469, -0.22460938,\n",
              "       -0.11865234,  0.03735352, -0.07910156,  0.33789062, -0.28125   ,\n",
              "       -0.26171875,  0.31054688, -0.00588989, -0.05297852,  0.11035156,\n",
              "       -0.0144043 ,  0.08300781,  0.08056641, -0.18359375,  0.03540039,\n",
              "        0.01135254, -0.13085938,  0.17871094,  0.0703125 , -0.171875  ,\n",
              "        0.09472656, -0.05981445,  0.25585938, -0.22851562, -0.02148438,\n",
              "       -0.01330566, -0.0559082 , -0.05737305, -0.01391602, -0.046875  ,\n",
              "       -0.36328125, -0.05053711,  0.20898438, -0.06054688, -0.04736328,\n",
              "        0.07519531, -0.04980469, -0.15917969, -0.11230469, -0.08691406,\n",
              "        0.10351562,  0.07421875,  0.10888672, -0.04345703, -0.01501465,\n",
              "       -0.07470703,  0.06152344,  0.07128906, -0.2265625 , -0.09960938,\n",
              "        0.22070312,  0.12451172, -0.12695312,  0.24902344, -0.2734375 ,\n",
              "        0.0456543 , -0.14257812,  0.04516602,  0.05029297,  0.24902344,\n",
              "       -0.08105469,  0.00442505,  0.04370117, -0.02575684,  0.19335938,\n",
              "        0.04516602, -0.03320312, -0.13476562,  0.19628906,  0.01062012,\n",
              "        0.17578125,  0.08740234, -0.03466797,  0.02600098,  0.14257812,\n",
              "        0.02050781,  0.20605469, -0.1328125 ,  0.06152344,  0.18945312,\n",
              "       -0.12792969, -0.03295898,  0.01031494, -0.07324219, -0.02636719,\n",
              "       -0.15722656,  0.01446533,  0.19140625,  0.06933594, -0.15332031,\n",
              "       -0.04174805,  0.11865234,  0.16894531, -0.10449219, -0.02416992,\n",
              "        0.13183594,  0.02075195,  0.04516602,  0.09765625, -0.02416992,\n",
              "        0.18164062, -0.12011719, -0.140625  , -0.203125  , -0.0480957 ,\n",
              "       -0.19238281,  0.05493164,  0.00619507, -0.03442383,  0.32421875,\n",
              "       -0.16601562,  0.10546875, -0.16992188,  0.12402344,  0.05126953,\n",
              "       -0.06542969, -0.03979492,  0.13964844, -0.18164062,  0.03564453,\n",
              "       -0.08007812,  0.13964844, -0.05737305,  0.00805664,  0.03857422,\n",
              "        0.01586914, -0.17089844,  0.06079102, -0.01647949,  0.02075195,\n",
              "        0.09130859, -0.11328125,  0.02600098, -0.01446533, -0.01953125,\n",
              "        0.02331543, -0.01953125,  0.23242188,  0.0402832 , -0.17871094,\n",
              "       -0.05688477, -0.12988281, -0.02758789, -0.24316406, -0.03540039,\n",
              "        0.20800781,  0.25585938,  0.19726562, -0.19140625,  0.2109375 ,\n",
              "        0.23535156,  0.02246094,  0.04003906, -0.03271484,  0.10449219,\n",
              "       -0.22265625,  0.26171875, -0.0100708 , -0.01660156, -0.07080078,\n",
              "        0.03930664,  0.33984375, -0.14160156,  0.02905273,  0.06152344,\n",
              "        0.0612793 ,  0.06835938, -0.14257812, -0.296875  , -0.15332031,\n",
              "       -0.02941895, -0.12255859, -0.18847656,  0.05639648, -0.05737305,\n",
              "       -0.16210938,  0.19824219,  0.05053711, -0.01879883, -0.15722656,\n",
              "       -0.15820312,  0.02868652, -0.18066406, -0.00793457, -0.19628906,\n",
              "       -0.05859375,  0.00598145, -0.05834961, -0.1015625 , -0.05004883,\n",
              "       -0.30078125,  0.25195312, -0.09619141,  0.00165558, -0.03271484,\n",
              "        0.11767578,  0.19921875,  0.21679688,  0.1484375 ,  0.26757812,\n",
              "       -0.05834961, -0.01312256,  0.15820312, -0.35546875, -0.03979492,\n",
              "       -0.06884766, -0.18359375, -0.07128906,  0.16992188, -0.16699219,\n",
              "        0.00854492,  0.08154297,  0.12402344,  0.12255859,  0.06738281,\n",
              "       -0.08007812,  0.19042969,  0.1328125 , -0.11816406, -0.09960938,\n",
              "        0.06396484, -0.05273438, -0.12255859, -0.02478027, -0.03417969,\n",
              "       -0.25976562,  0.08007812, -0.14746094, -0.13769531,  0.02319336,\n",
              "        0.17382812, -0.04516602, -0.10058594, -0.14160156, -0.13671875,\n",
              "       -0.09521484,  0.00469971, -0.08886719, -0.02954102, -0.16992188,\n",
              "       -0.02209473, -0.03686523, -0.06176758, -0.03295898, -0.15722656],\n",
              "      dtype=float32)"
            ]
          },
          "metadata": {
            "tags": []
          },
          "execution_count": 35
        }
      ]
    },
    {
      "cell_type": "code",
      "metadata": {
        "id": "jka6F3kk0Yti",
        "colab_type": "code",
        "colab": {
          "base_uri": "https://localhost:8080/",
          "height": 241
        },
        "outputId": "c8b40a6e-efbe-4642-efdb-7e5cab916a38"
      },
      "source": [
        "word2vec_model.most_similar('dog') # This function provided by gensim will give top 10 words which are very similar to it"
      ],
      "execution_count": 37,
      "outputs": [
        {
          "output_type": "stream",
          "text": [
            "/usr/local/lib/python3.6/dist-packages/gensim/matutils.py:737: FutureWarning: Conversion of the second argument of issubdtype from `int` to `np.signedinteger` is deprecated. In future, it will be treated as `np.int64 == np.dtype(int).type`.\n",
            "  if np.issubdtype(vec.dtype, np.int):\n"
          ],
          "name": "stderr"
        },
        {
          "output_type": "execute_result",
          "data": {
            "text/plain": [
              "[('dogs', 0.8680489659309387),\n",
              " ('puppy', 0.8106428384780884),\n",
              " ('pit_bull', 0.780396044254303),\n",
              " ('pooch', 0.7627377510070801),\n",
              " ('cat', 0.7609456777572632),\n",
              " ('golden_retriever', 0.7500902414321899),\n",
              " ('German_shepherd', 0.7465174198150635),\n",
              " ('Rottweiler', 0.7437614798545837),\n",
              " ('beagle', 0.7418621778488159),\n",
              " ('pup', 0.740691065788269)]"
            ]
          },
          "metadata": {
            "tags": []
          },
          "execution_count": 37
        }
      ]
    },
    {
      "cell_type": "markdown",
      "metadata": {
        "id": "lpzZMZTn0vIP",
        "colab_type": "text"
      },
      "source": [
        "# good - off + on = bad\n",
        "We can subtract the vectors of 'OFF' from the sum of vectors of 'GOOD' and 'ON' and we will be getting the following result"
      ]
    },
    {
      "cell_type": "code",
      "metadata": {
        "id": "iYFGa-5I1CGl",
        "colab_type": "code",
        "colab": {
          "base_uri": "https://localhost:8080/",
          "height": 88
        },
        "outputId": "8b4daf71-8a7c-4f3c-b079-39e450a5b8ac"
      },
      "source": [
        "word2vec_model.most_similar(positive=['on','good'],negative=['off'] ,topn=1)"
      ],
      "execution_count": 34,
      "outputs": [
        {
          "output_type": "stream",
          "text": [
            "/usr/local/lib/python3.6/dist-packages/gensim/matutils.py:737: FutureWarning: Conversion of the second argument of issubdtype from `int` to `np.signedinteger` is deprecated. In future, it will be treated as `np.int64 == np.dtype(int).type`.\n",
            "  if np.issubdtype(vec.dtype, np.int):\n"
          ],
          "name": "stderr"
        },
        {
          "output_type": "execute_result",
          "data": {
            "text/plain": [
              "[('bad', 0.48413169384002686)]"
            ]
          },
          "metadata": {
            "tags": []
          },
          "execution_count": 34
        }
      ]
    },
    {
      "cell_type": "code",
      "metadata": {
        "id": "IDx0ISrK1hb7",
        "colab_type": "code",
        "colab": {}
      },
      "source": [
        "\n"
      ],
      "execution_count": 8,
      "outputs": []
    },
    {
      "cell_type": "code",
      "metadata": {
        "id": "ZmfQsWsG5UsY",
        "colab_type": "code",
        "colab": {}
      },
      "source": [
        "vocablory = [\"boy\", \"girl\", \"man\", \"woman\", \"king\", \"queen\", \"banana\", \"apple\", \"mango\", \"fruit\", \"coconut\", \"orange\"]\n",
        "# I am taking this vocablory in order to differentiate the Humans (of both genders) with fruits.word2vec model understand the meaning of gender.\n",
        "\n",
        "def tsne_plot(model,vocablory):\n",
        "    labels = []\n",
        "    wordvecs = []\n",
        "\n",
        "    for word in vocablory:\n",
        "        wordvecs.append(model[word])\n",
        "        labels.append(word)\n",
        "    \n",
        "    tsne_model = TSNE(perplexity=6, n_components=2, init='pca', random_state=42) #Lower the perplexity the closer the points will be on the plot\n",
        "    \n",
        "    #This TSNE function is just a method of Dimensionality reduction to 2 components so that we can plot on 2d plane\n",
        "    \n",
        "    coordinates = tsne_model.fit_transform(wordvecs)\n",
        "\n",
        "    x = []\n",
        "    y = []\n",
        "    for value in coordinates:\n",
        "        x.append(value[0])\n",
        "        y.append(value[1])\n",
        "        \n",
        "    plt.figure(figsize=(10,10)) # This denotes the size of the figure i.e 10 X 10\n",
        "    for i in range(len(x)):\n",
        "        plt.scatter(x[i],y[i])\n",
        "        plt.annotate(labels[i],    # The text is placed at corresponding each point.\n",
        "                     xy=(x[i], y[i]),\n",
        "                     xytext=(5, 5),# The distance between point and corresponding text\n",
        "                     textcoords='offset points',\n",
        "                     ha='right',\n",
        "                     va='bottom')\n",
        "    plt.show()\n"
      ],
      "execution_count": 48,
      "outputs": []
    },
    {
      "cell_type": "code",
      "metadata": {
        "id": "w6I4VnrN8KEQ",
        "colab_type": "code",
        "colab": {
          "base_uri": "https://localhost:8080/",
          "height": 592
        },
        "outputId": "9d31bd18-a540-41bb-d9e7-8df34c6c403a"
      },
      "source": [
        "tsne_plot(word2vec_model,vocablory)"
      ],
      "execution_count": 49,
      "outputs": [
        {
          "output_type": "display_data",
          "data": {
            "image/png": "[encoded data removed]",
            "text/plain": [
              "<Figure size 720x720 with 1 Axes>"
            ]
          },
          "metadata": {
            "tags": [],
            "needs_background": "light"
          }
        }
      ]
    },
    {
      "cell_type": "code",
      "metadata": {
        "id": "dDrc_dw2HH2K",
        "colab_type": "code",
        "colab": {}
      },
      "source": [
        ""
      ],
      "execution_count": null,
      "outputs": []
    }
  ]
}